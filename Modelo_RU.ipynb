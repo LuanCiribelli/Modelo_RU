{
 "cells": [
  {
   "cell_type": "markdown",
   "id": "c873157a",
   "metadata": {},
   "source": [
    "# Modelo do Restaurante Universitario\n",
    "\n",
    "## Luan Reis e Arthur\n",
    "\n",
    " ### Definição de Parâmetros e Ambiente\n",
    "\n",
    "- **Entradas**: 2 conjuntos de 2 catracas cada\n",
    "- **Bandejas**: Cada entrada leva a 3 bandejas diferentes\n",
    "- **Refeições**: Desjejum, Almoço, Jantar\n",
    "- **Objetivo**: Reduzir filas e lotação no restaurante universitário\n",
    "\n"
   ]
  },
  {
   "cell_type": "markdown",
   "id": "4080de73",
   "metadata": {},
   "source": [
    "\n",
    "### imports"
   ]
  },
  {
   "cell_type": "code",
   "execution_count": 1,
   "id": "34151548",
   "metadata": {},
   "outputs": [
    {
     "name": "stdout",
     "output_type": "stream",
     "text": [
      "Note: you may need to restart the kernel to use updated packages.\n"
     ]
    }
   ],
   "source": [
    "%pip install --quiet mesa"
   ]
  },
  {
   "cell_type": "code",
   "execution_count": 2,
   "id": "da3fd1f8",
   "metadata": {},
   "outputs": [],
   "source": [
    "from mesa import Agent, Model\n",
    "from mesa.time import RandomActivation\n",
    "from mesa.space import MultiGrid\n",
    "from mesa.visualization.modules import CanvasGrid\n",
    "from mesa.visualization.ModularVisualization import ModularServer\n",
    "from random import choice\n",
    "from enum import Enum"
   ]
  },
  {
   "cell_type": "markdown",
   "id": "361806e3",
   "metadata": {},
   "source": [
    "### Agentes"
   ]
  },
  {
   "cell_type": "code",
   "execution_count": 3,
   "id": "d76cd29b",
   "metadata": {},
   "outputs": [],
   "source": [
    "class StudentAgent(Agent):\n",
    "    def __init__(self, unique_id, model, x, y):\n",
    "        super().__init__(unique_id, model)\n",
    "        self.pos = (x, y)\n",
    "        self.state = \"QUEUEING_TURNSTILE\"\n",
    "        self.blocked_steps = 0\n",
    "        self.waiting_time = 0\n",
    "\n",
    "    def nearest_tray(self):\n",
    "        x, y = self.pos\n",
    "        tray_coords = [(i, j) for i, row in enumerate(external_grid)\n",
    "                   for j, cell in enumerate(row) if cell == CellType.TRAY]\n",
    "        min_distance = float('inf')\n",
    "        nearest = None\n",
    "\n",
    "        for tray in tray_coords:\n",
    "            if self.model.grid.is_cell_empty(tray):\n",
    "                distance = abs(tray[0] - x) + abs(tray[1] - y)\n",
    "                if distance < min_distance:\n",
    "                    min_distance = distance\n",
    "                    nearest = tray\n",
    "                    if min_distance == 1:  # Se a bandeja mais próxima for adjacente, retorne\n",
    "                        break\n",
    "\n",
    "        return nearest\n",
    "\n",
    "    def is_empty_or_catraca(self, x, y):\n",
    "        cell_contents = self.model.grid.get_cell_list_contents([(x, y)])\n",
    "        # Verificar se o conteúdo da célula é StaticAgent e não é uma parede\n",
    "        return all(isinstance(agent, StaticAgent) and agent.type != \"Parede\" for agent in cell_contents) and not any(isinstance(agent, StudentAgent) for agent in cell_contents)\n",
    "\n",
    "    def move_towards_target(self, target):\n",
    "        x, y = self.pos\n",
    "        tx, ty = target\n",
    "        possible_steps = []\n",
    "\n",
    "        if x < tx and self.is_empty_or_catraca(x + 1, y):\n",
    "            possible_steps.append((x + 1, y))\n",
    "        elif x > tx and self.is_empty_or_catraca(x - 1, y):\n",
    "            possible_steps.append((x - 1, y))\n",
    "\n",
    "        if y < ty and self.is_empty_or_catraca(x, y + 1):\n",
    "            possible_steps.append((x, y + 1))\n",
    "        elif y > ty and self.is_empty_or_catraca(x, y - 1):\n",
    "            possible_steps.append((x, y - 1))\n",
    "\n",
    "        return possible_steps\n",
    "\n",
    "    def move(self):\n",
    "        x, y = self.pos\n",
    "        possible_steps = []\n",
    "\n",
    "        # Se estiver na fila para a catraca\n",
    "        if self.state == \"QUEUEING_TURNSTILE\":\n",
    "            # Tente se mover horizontalmente em direção à catraca\n",
    "            possible_steps = self.move_towards_target(\n",
    "                (self.model.width - 1, y))\n",
    "            if not possible_steps:  # Se não puder se mover horizontalmente, tente verticalmente\n",
    "                if y > 0 and self.is_empty_or_catraca(x, y - 1):\n",
    "                    possible_steps.append((x, y - 1))\n",
    "                elif y < self.model.height - 1 and self.is_empty_or_catraca(x, y + 1):\n",
    "                    possible_steps.append((x, y + 1))\n",
    "\n",
    "            if x == self.model.width - 2 and self.is_empty_or_catraca(x + 1, y):\n",
    "                self.state = \"SEARCHING_TRAY\"\n",
    "\n",
    "        # Se estiver procurando uma bandeja\n",
    "        elif self.state == \"SEARCHING_TRAY\":\n",
    "            nearest = self.nearest_tray()\n",
    "            if not nearest:\n",
    "                self.state = \"EXITING\"\n",
    "            else:\n",
    "                if (x, y) == nearest:\n",
    "                    if self.waiting_time < 2:\n",
    "                        self.waiting_time += 1\n",
    "                        return\n",
    "                    else:\n",
    "                        self.waiting_time = 0\n",
    "                        self.state = \"EXITING\"\n",
    "                else:\n",
    "                    possible_steps = self.move_towards_target(nearest)\n",
    "\n",
    "        # Se estiver saindo\n",
    "        elif self.state == \"EXITING\":\n",
    "            if y < self.model.height - 1 and self.is_empty_or_catraca(x, y + 1):\n",
    "                possible_steps.append((x, y + 1))\n",
    "            else:\n",
    "                self.model.grid.remove_agent(self)\n",
    "                return\n",
    "\n",
    "        # Escolha um dos possíveis passos\n",
    "        new_position = choice(possible_steps) if possible_steps else None\n",
    "        if new_position:\n",
    "            self.model.grid.move_agent(self, new_position)\n",
    "            self.blocked_steps = 0\n",
    "        else:\n",
    "            self.blocked_steps += 1\n",
    "\n",
    "    def step(self):\n",
    "        self.move()\n",
    "\n",
    "\n",
    "class StaticAgent(Agent):\n",
    "    def __init__(self, unique_id, model, x, y, agent_type):\n",
    "        super().__init__(unique_id, model)\n",
    "        self.pos = (x, y)\n",
    "        self.type = agent_type\n",
    "\n"
   ]
  },
  {
   "cell_type": "markdown",
   "id": "093e8c87",
   "metadata": {},
   "source": [
    "\n",
    "### Ambiente"
   ]
  },
  {
   "cell_type": "code",
   "execution_count": 5,
   "id": "d24c4c3c",
   "metadata": {},
   "outputs": [],
   "source": [
    "def agent_portrayal(agent):\n",
    "    if isinstance(agent, StudentAgent):\n",
    "        color = \"red\" if agent.model.error_message else \"blue\"\n",
    "        return {\n",
    "            \"Shape\": \"circle\",\n",
    "            \"Color\": color,\n",
    "            \"Filled\": \"true\",\n",
    "            \"Layer\": 0,\n",
    "            \"r\": 0.5\n",
    "        }\n",
    "\n",
    "    shape_colors = {\n",
    "        \"Catraca\": \"gray\",\n",
    "        \"Parede\": \"black\",\n",
    "        \"Bandeja\": \"green\",\n",
    "        \"Saida\": \"red\"\n",
    "    }\n",
    "\n",
    "    return {\n",
    "        \"Shape\": \"rect\",\n",
    "        \"Color\": shape_colors.get(agent.type, \"white\"),\n",
    "        \"Filled\": \"true\",\n",
    "        \"Layer\": 1,\n",
    "        \"w\": 1,\n",
    "        \"h\": 1\n",
    "    }\n"
   ]
  },
  {
   "cell_type": "markdown",
   "id": "3dcb58e6",
   "metadata": {},
   "source": [
    "### Modelo"
   ]
  },
  {
   "cell_type": "code",
   "execution_count": 6,
   "id": "fdeb6420",
   "metadata": {},
   "outputs": [],
   "source": [
    "class CellType(Enum):\n",
    "    STUDENT = 'E'\n",
    "    TURNSTILE = 'C'\n",
    "    EMPTY = '0'\n",
    "    WALL = 'P'\n",
    "    TRAY = 'B'\n",
    "    EXIT = 'S'\n",
    "\n",
    "class GridConfig:\n",
    "\n",
    "    @staticmethod\n",
    "    def get_grid():\n",
    "        raw_grid = [\n",
    "                ['E', 'C', '0', '0', '0', '0', '0', '0', '0', '0','0', '0', '0', '0', '0', '0', '0', '0', 'P', '0'],\n",
    "                ['E', 'C', '0', '0', '0', '0', '0', '0', '0', '0','0', '0', '0', '0', '0', '0', '0', '0', 'P', '0'],\n",
    "                ['E', 'P', '0', '0', '0', '0', '0', '0', '0', '0','0', '0', '0', '0', '0', '0', '0', '0', 'P', '0'],\n",
    "                ['E', 'P', '0', '0', '0', '0', '0', '0', '0', '0','0', '0', '0', '0', '0', '0', '0', '0', 'P', '0'],\n",
    "                ['E', 'P', '0', '0', '0', 'B', 'B', '0', '0', '0','0', '0', '0', 'B', 'B', '0', '0', '0', 'P', '0'],\n",
    "                ['E', 'P', '0', '0', '0', '0', '0', '0', '0', '0','0', '0', '0', '0', '0', '0', '0', '0', 'P', '0'],\n",
    "                ['E', 'P', '0', '0', '0', 'B', 'B', '0', '0', '0','0', '0', '0', 'B', 'B', '0', '0', '0', 'P', '0'],\n",
    "                ['E', 'P', '0', '0', '0', '0', '0', '0', '0', '0','0', '0', '0', '0', '0', '0', '0', '0', 'P', '0'],\n",
    "                ['E', 'P', '0', '0', '0', 'B', 'B', '0', '0', '0','0', '0', '0', 'B', 'B', '0', '0', '0', 'P', '0'],\n",
    "                ['E', 'P', '0', '0', '0', '0', '0', '0', '0', '0','0', '0', '0', '0', '0', '0', '0', '0', 'P', '0'],\n",
    "                ['E', 'P', '0', '0', '0', '0', '0', '0', '0', '0','0', '0', '0', '0', '0', '0', '0', '0', 'P', '0'],\n",
    "                ['E', 'P', '0', '0', '0', '0', '0', '0', '0', '0','0', '0', '0', '0', '0', '0', '0', '0', 'P', '0'],\n",
    "                ['E', 'P', '0', '0', '0', '0', '0', '0', '0', '0','0', '0', '0', '0', '0', '0', '0', '0', 'P', '0'],\n",
    "                ['E', 'P', '0', '0', '0', '0', '0', '0', '0', '0','0', '0', '0', '0', '0', '0', '0', '0', 'P', '0'],\n",
    "                ['0', 'P', 'P', 'P', 'P', 'P', 'S', 'P', 'P', 'P','P', 'P', 'S', 'P', 'P', 'P', 'P', 'P', 'P', '0'],\n",
    "        ]\n",
    "        return [[CellType(cell) for cell in row] for row in raw_grid]"
   ]
  },
  {
   "cell_type": "code",
   "execution_count": 7,
   "id": "0d5afa83",
   "metadata": {},
   "outputs": [],
   "source": [
    "class RestaurantModel(Model):\n",
    "    def __init__(self, external_grid):\n",
    "        self.height = len(external_grid)\n",
    "        self.width = len(external_grid[0])\n",
    "\n",
    "        self.grid = MultiGrid(self.width, self.height, True)\n",
    "        self.schedule = RandomActivation(self)\n",
    "        self.time = 0\n",
    "\n",
    "        self.error_message = None\n",
    "\n",
    "        for y in range(self.height):\n",
    "            for x in range(self.width):\n",
    "                cell_value = external_grid[y][x]\n",
    "                if cell_value == CellType.STUDENT:\n",
    "                    student = StudentAgent((x, y), self, x, y)\n",
    "                    self.grid.place_agent(student, (x, y))\n",
    "                    self.schedule.add(student)\n",
    "                elif cell_value in [CellType.TURNSTILE, CellType.WALL, CellType.TRAY, CellType.EXIT]:\n",
    "                    agent_type = {\n",
    "                        CellType.TURNSTILE: 'Catraca',\n",
    "                        CellType.WALL: 'Parede',\n",
    "                        CellType.TRAY: 'Bandeja',\n",
    "                        CellType.EXIT: 'Saida'\n",
    "                    }[cell_value]\n",
    "                    self.grid.place_agent(StaticAgent(\n",
    "                        (x, y), self, x, y, agent_type), (x, y))\n",
    "\n",
    "    def step(self):\n",
    "        if self.error_message:\n",
    "            return\n",
    "        # Chamar o .step() uma vez apenas\n",
    "        self.schedule.step()\n",
    "\n",
    "        all_students_blocked = all(\n",
    "            [student.blocked_steps >= 10 for student in self.schedule.agents if isinstance(student, StudentAgent)])\n",
    "        if all_students_blocked:\n",
    "            self.error_message = \"Erro, todos os estudantes presos, modelo parado\"\n",
    "\n"
   ]
  },
  {
   "cell_type": "code",
   "execution_count": 8,
   "id": "a3205bc4",
   "metadata": {},
   "outputs": [
    {
     "name": "stdout",
     "output_type": "stream",
     "text": [
      "Interface starting at http://127.0.0.1:8521\n"
     ]
    },
    {
     "ename": "RuntimeError",
     "evalue": "This event loop is already running",
     "output_type": "error",
     "traceback": [
      "\u001b[1;31m---------------------------------------------------------------------------\u001b[0m",
      "\u001b[1;31mRuntimeError\u001b[0m                              Traceback (most recent call last)",
      "\u001b[1;32m~\\AppData\\Local\\Temp\\ipykernel_6044\\1398495086.py\u001b[0m in \u001b[0;36m<module>\u001b[1;34m\u001b[0m\n\u001b[0;32m      4\u001b[0m \u001b[1;31m# Modifique os parâmetros para se ajustar ao tamanho de external_grid\u001b[0m\u001b[1;33m\u001b[0m\u001b[1;33m\u001b[0m\u001b[0m\n\u001b[0;32m      5\u001b[0m \u001b[0mserver\u001b[0m \u001b[1;33m=\u001b[0m \u001b[0mModularServer\u001b[0m\u001b[1;33m(\u001b[0m\u001b[0mRestaurantModel\u001b[0m\u001b[1;33m,\u001b[0m \u001b[1;33m[\u001b[0m\u001b[0mgrid\u001b[0m\u001b[1;33m]\u001b[0m\u001b[1;33m,\u001b[0m \u001b[1;34m\"University Restaurant Model\"\u001b[0m\u001b[1;33m,\u001b[0m \u001b[1;33m{\u001b[0m\u001b[1;34m\"external_grid\"\u001b[0m\u001b[1;33m:\u001b[0m \u001b[0mexternal_grid\u001b[0m\u001b[1;33m}\u001b[0m\u001b[1;33m)\u001b[0m\u001b[1;33m\u001b[0m\u001b[1;33m\u001b[0m\u001b[0m\n\u001b[1;32m----> 6\u001b[1;33m \u001b[0mserver\u001b[0m\u001b[1;33m.\u001b[0m\u001b[0mlaunch\u001b[0m\u001b[1;33m(\u001b[0m\u001b[1;33m)\u001b[0m\u001b[1;33m\u001b[0m\u001b[1;33m\u001b[0m\u001b[0m\n\u001b[0m",
      "\u001b[1;32m~\\anaconda3\\lib\\site-packages\\mesa_viz_tornado\\ModularVisualization.py\u001b[0m in \u001b[0;36mlaunch\u001b[1;34m(self, port, open_browser)\u001b[0m\n\u001b[0;32m    405\u001b[0m         \u001b[0mtornado\u001b[0m\u001b[1;33m.\u001b[0m\u001b[0mautoreload\u001b[0m\u001b[1;33m.\u001b[0m\u001b[0mstart\u001b[0m\u001b[1;33m(\u001b[0m\u001b[1;33m)\u001b[0m\u001b[1;33m\u001b[0m\u001b[1;33m\u001b[0m\u001b[0m\n\u001b[0;32m    406\u001b[0m         \u001b[1;32mtry\u001b[0m\u001b[1;33m:\u001b[0m\u001b[1;33m\u001b[0m\u001b[1;33m\u001b[0m\u001b[0m\n\u001b[1;32m--> 407\u001b[1;33m             \u001b[0mtornado\u001b[0m\u001b[1;33m.\u001b[0m\u001b[0mioloop\u001b[0m\u001b[1;33m.\u001b[0m\u001b[0mIOLoop\u001b[0m\u001b[1;33m.\u001b[0m\u001b[0mcurrent\u001b[0m\u001b[1;33m(\u001b[0m\u001b[1;33m)\u001b[0m\u001b[1;33m.\u001b[0m\u001b[0mstart\u001b[0m\u001b[1;33m(\u001b[0m\u001b[1;33m)\u001b[0m\u001b[1;33m\u001b[0m\u001b[1;33m\u001b[0m\u001b[0m\n\u001b[0m\u001b[0;32m    408\u001b[0m         \u001b[1;32mexcept\u001b[0m \u001b[0mKeyboardInterrupt\u001b[0m\u001b[1;33m:\u001b[0m\u001b[1;33m\u001b[0m\u001b[1;33m\u001b[0m\u001b[0m\n\u001b[0;32m    409\u001b[0m             \u001b[0mtornado\u001b[0m\u001b[1;33m.\u001b[0m\u001b[0mioloop\u001b[0m\u001b[1;33m.\u001b[0m\u001b[0mIOLoop\u001b[0m\u001b[1;33m.\u001b[0m\u001b[0mcurrent\u001b[0m\u001b[1;33m(\u001b[0m\u001b[1;33m)\u001b[0m\u001b[1;33m.\u001b[0m\u001b[0mstop\u001b[0m\u001b[1;33m(\u001b[0m\u001b[1;33m)\u001b[0m\u001b[1;33m\u001b[0m\u001b[1;33m\u001b[0m\u001b[0m\n",
      "\u001b[1;32m~\\anaconda3\\lib\\site-packages\\tornado\\platform\\asyncio.py\u001b[0m in \u001b[0;36mstart\u001b[1;34m(self)\u001b[0m\n\u001b[0;32m    197\u001b[0m             \u001b[0mself\u001b[0m\u001b[1;33m.\u001b[0m\u001b[0m_setup_logging\u001b[0m\u001b[1;33m(\u001b[0m\u001b[1;33m)\u001b[0m\u001b[1;33m\u001b[0m\u001b[1;33m\u001b[0m\u001b[0m\n\u001b[0;32m    198\u001b[0m             \u001b[0masyncio\u001b[0m\u001b[1;33m.\u001b[0m\u001b[0mset_event_loop\u001b[0m\u001b[1;33m(\u001b[0m\u001b[0mself\u001b[0m\u001b[1;33m.\u001b[0m\u001b[0masyncio_loop\u001b[0m\u001b[1;33m)\u001b[0m\u001b[1;33m\u001b[0m\u001b[1;33m\u001b[0m\u001b[0m\n\u001b[1;32m--> 199\u001b[1;33m             \u001b[0mself\u001b[0m\u001b[1;33m.\u001b[0m\u001b[0masyncio_loop\u001b[0m\u001b[1;33m.\u001b[0m\u001b[0mrun_forever\u001b[0m\u001b[1;33m(\u001b[0m\u001b[1;33m)\u001b[0m\u001b[1;33m\u001b[0m\u001b[1;33m\u001b[0m\u001b[0m\n\u001b[0m\u001b[0;32m    200\u001b[0m         \u001b[1;32mfinally\u001b[0m\u001b[1;33m:\u001b[0m\u001b[1;33m\u001b[0m\u001b[1;33m\u001b[0m\u001b[0m\n\u001b[0;32m    201\u001b[0m             \u001b[0masyncio\u001b[0m\u001b[1;33m.\u001b[0m\u001b[0mset_event_loop\u001b[0m\u001b[1;33m(\u001b[0m\u001b[0mold_loop\u001b[0m\u001b[1;33m)\u001b[0m\u001b[1;33m\u001b[0m\u001b[1;33m\u001b[0m\u001b[0m\n",
      "\u001b[1;32m~\\anaconda3\\lib\\asyncio\\base_events.py\u001b[0m in \u001b[0;36mrun_forever\u001b[1;34m(self)\u001b[0m\n\u001b[0;32m    589\u001b[0m         \u001b[1;34m\"\"\"Run until stop() is called.\"\"\"\u001b[0m\u001b[1;33m\u001b[0m\u001b[1;33m\u001b[0m\u001b[0m\n\u001b[0;32m    590\u001b[0m         \u001b[0mself\u001b[0m\u001b[1;33m.\u001b[0m\u001b[0m_check_closed\u001b[0m\u001b[1;33m(\u001b[0m\u001b[1;33m)\u001b[0m\u001b[1;33m\u001b[0m\u001b[1;33m\u001b[0m\u001b[0m\n\u001b[1;32m--> 591\u001b[1;33m         \u001b[0mself\u001b[0m\u001b[1;33m.\u001b[0m\u001b[0m_check_running\u001b[0m\u001b[1;33m(\u001b[0m\u001b[1;33m)\u001b[0m\u001b[1;33m\u001b[0m\u001b[1;33m\u001b[0m\u001b[0m\n\u001b[0m\u001b[0;32m    592\u001b[0m         \u001b[0mself\u001b[0m\u001b[1;33m.\u001b[0m\u001b[0m_set_coroutine_origin_tracking\u001b[0m\u001b[1;33m(\u001b[0m\u001b[0mself\u001b[0m\u001b[1;33m.\u001b[0m\u001b[0m_debug\u001b[0m\u001b[1;33m)\u001b[0m\u001b[1;33m\u001b[0m\u001b[1;33m\u001b[0m\u001b[0m\n\u001b[0;32m    593\u001b[0m         \u001b[0mself\u001b[0m\u001b[1;33m.\u001b[0m\u001b[0m_thread_id\u001b[0m \u001b[1;33m=\u001b[0m \u001b[0mthreading\u001b[0m\u001b[1;33m.\u001b[0m\u001b[0mget_ident\u001b[0m\u001b[1;33m(\u001b[0m\u001b[1;33m)\u001b[0m\u001b[1;33m\u001b[0m\u001b[1;33m\u001b[0m\u001b[0m\n",
      "\u001b[1;32m~\\anaconda3\\lib\\asyncio\\base_events.py\u001b[0m in \u001b[0;36m_check_running\u001b[1;34m(self)\u001b[0m\n\u001b[0;32m    581\u001b[0m     \u001b[1;32mdef\u001b[0m \u001b[0m_check_running\u001b[0m\u001b[1;33m(\u001b[0m\u001b[0mself\u001b[0m\u001b[1;33m)\u001b[0m\u001b[1;33m:\u001b[0m\u001b[1;33m\u001b[0m\u001b[1;33m\u001b[0m\u001b[0m\n\u001b[0;32m    582\u001b[0m         \u001b[1;32mif\u001b[0m \u001b[0mself\u001b[0m\u001b[1;33m.\u001b[0m\u001b[0mis_running\u001b[0m\u001b[1;33m(\u001b[0m\u001b[1;33m)\u001b[0m\u001b[1;33m:\u001b[0m\u001b[1;33m\u001b[0m\u001b[1;33m\u001b[0m\u001b[0m\n\u001b[1;32m--> 583\u001b[1;33m             \u001b[1;32mraise\u001b[0m \u001b[0mRuntimeError\u001b[0m\u001b[1;33m(\u001b[0m\u001b[1;34m'This event loop is already running'\u001b[0m\u001b[1;33m)\u001b[0m\u001b[1;33m\u001b[0m\u001b[1;33m\u001b[0m\u001b[0m\n\u001b[0m\u001b[0;32m    584\u001b[0m         \u001b[1;32mif\u001b[0m \u001b[0mevents\u001b[0m\u001b[1;33m.\u001b[0m\u001b[0m_get_running_loop\u001b[0m\u001b[1;33m(\u001b[0m\u001b[1;33m)\u001b[0m \u001b[1;32mis\u001b[0m \u001b[1;32mnot\u001b[0m \u001b[1;32mNone\u001b[0m\u001b[1;33m:\u001b[0m\u001b[1;33m\u001b[0m\u001b[1;33m\u001b[0m\u001b[0m\n\u001b[0;32m    585\u001b[0m             raise RuntimeError(\n",
      "\u001b[1;31mRuntimeError\u001b[0m: This event loop is already running"
     ]
    },
    {
     "name": "stdout",
     "output_type": "stream",
     "text": [
      "Socket opened!\n",
      "{\"type\":\"reset\"}\n",
      "{\"type\":\"get_step\",\"step\":1}\n"
     ]
    }
   ],
   "source": [
    "external_grid = GridConfig.get_grid()\n",
    "\n",
    "# Defina o tamanho do grid de acordo com external_grid\n",
    "grid = CanvasGrid(agent_portrayal, len(\n",
    "    external_grid[0]), len(external_grid), 600, 1500)\n",
    "\n",
    "# Modifique os parâmetros para se ajustar ao tamanho de external_grid\n",
    "server = ModularServer(RestaurantModel, [grid], \"University Restaurant Model\", {\n",
    "                       \"external_grid\": external_grid})\n",
    "server.launch()"
   ]
  }
 ],
 "metadata": {
  "celltoolbar": "Raw Cell Format",
  "kernelspec": {
   "display_name": "Python 3 (ipykernel)",
   "language": "python",
   "name": "python3"
  },
  "language_info": {
   "codemirror_mode": {
    "name": "ipython",
    "version": 3
   },
   "file_extension": ".py",
   "mimetype": "text/x-python",
   "name": "python",
   "nbconvert_exporter": "python",
   "pygments_lexer": "ipython3",
   "version": "3.9.13"
  }
 },
 "nbformat": 4,
 "nbformat_minor": 5
}
